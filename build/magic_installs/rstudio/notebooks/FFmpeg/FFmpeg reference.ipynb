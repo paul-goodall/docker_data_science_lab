{
 "cells": [
  {
   "cell_type": "markdown",
   "id": "e14284ea",
   "metadata": {},
   "source": [
    "# FFMPEG notes\n",
    "\n",
    "A quick guide at all the FFmpeg shortcuts that I'm always forgetting"
   ]
  },
  {
   "cell_type": "code",
   "execution_count": 1,
   "id": "ecee5aeb",
   "metadata": {},
   "outputs": [
    {
     "name": "stdout",
     "output_type": "stream",
     "text": [
      "/usr/bin/ffmpeg\n"
     ]
    }
   ],
   "source": [
    "which ffmpeg"
   ]
  },
  {
   "cell_type": "markdown",
   "id": "d763583b",
   "metadata": {},
   "source": [
    "Show some info about the video:"
   ]
  },
  {
   "cell_type": "code",
   "execution_count": 9,
   "id": "a5cd9055",
   "metadata": {},
   "outputs": [
    {
     "name": "stdout",
     "output_type": "stream",
     "text": [
      "Input #0, mov,mp4,m4a,3gp,3g2,mj2, from 'data/christmas.mp4':\n",
      "  Metadata:\n",
      "    major_brand     : M4V \n",
      "    minor_version   : 1\n",
      "    compatible_brands: M4V mp42isom\n",
      "    creation_time   : 2011-12-17T12:36:41.000000Z\n",
      "  Duration: 00:00:24.68, start: 0.000000, bitrate: 9711 kb/s\n",
      "    Stream #0:0(eng): Video: h264 (Main) (avc1 / 0x31637661), yuv420p(tv), 1280x720 [SAR 1:1 DAR 16:9], 9704 kb/s, 25 fps, 25 tbr, 25k tbn, 50 tbc (default)\n",
      "    Metadata:\n",
      "      creation_time   : 2011-12-17T12:36:41.000000Z\n",
      "      handler_name    : Mainconcept MP4 Video Media Handler\n",
      "      encoder         : AVC Coding\n",
      "Stream mapping:\n",
      "  Stream #0:0 -> #0:0 (h264 (native) -> wrapped_avframe (native))\n",
      "Press [q] to stop, [?] for help\n",
      "Output #0, null, to '/dev/null':\n",
      "  Metadata:\n",
      "    major_brand     : M4V \n",
      "    minor_version   : 1\n",
      "    compatible_brands: M4V mp42isom\n",
      "    encoder         : Lavf58.29.100\n",
      "    Stream #0:0(eng): Video: wrapped_avframe, yuv420p, 1280x720 [SAR 1:1 DAR 16:9], q=2-31, 200 kb/s, 25 fps, 25 tbn, 25 tbc (default)\n",
      "    Metadata:\n",
      "      creation_time   : 2011-12-17T12:36:41.000000Z\n",
      "      handler_name    : Mainconcept MP4 Video Media Handler\n",
      "      encoder         : Lavc58.54.100 wrapped_avframe\n",
      "frame=  617 fps=0.0 q=-0.0 Lsize=N/A time=00:00:24.68 bitrate=N/A speed=65.7x    \n",
      "video:323kB audio:0kB subtitle:0kB other streams:0kB global headers:0kB muxing overhead: unknown\n"
     ]
    }
   ],
   "source": [
    "ffmpeg -i data/christmas.mp4 -hide_banner -f null /dev/null"
   ]
  },
  {
   "cell_type": "code",
   "execution_count": null,
   "id": "fda4031f",
   "metadata": {},
   "outputs": [],
   "source": [
    "ffmpeg -i 1111 -s hd480 -c:v libx264 -crf 23 -c:a aac -strict -2 2222"
   ]
  },
  {
   "cell_type": "code",
   "execution_count": 4,
   "id": "0e2d7439",
   "metadata": {},
   "outputs": [
    {
     "ename": "",
     "evalue": "1",
     "output_type": "error",
     "traceback": []
    }
   ],
   "source": [
    "which smallvideo"
   ]
  },
  {
   "cell_type": "code",
   "execution_count": null,
   "id": "85119308",
   "metadata": {},
   "outputs": [],
   "source": []
  }
 ],
 "metadata": {
  "kernelspec": {
   "display_name": "Bash",
   "language": "bash",
   "name": "bash"
  },
  "language_info": {
   "codemirror_mode": "shell",
   "file_extension": ".sh",
   "mimetype": "text/x-sh",
   "name": "bash"
  }
 },
 "nbformat": 4,
 "nbformat_minor": 5
}
