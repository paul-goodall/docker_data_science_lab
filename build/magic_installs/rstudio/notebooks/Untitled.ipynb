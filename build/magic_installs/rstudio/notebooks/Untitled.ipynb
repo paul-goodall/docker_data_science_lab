{
 "cells": [
  {
   "cell_type": "code",
   "execution_count": 1,
   "id": "54407bb4",
   "metadata": {},
   "outputs": [
    {
     "name": "stdout",
     "output_type": "stream",
     "text": [
      "total 4\n",
      "drwxrwxrwx 3 root    root     96 Jun  8 12:27 \u001b[0m\u001b[34;42mFFmpeg\u001b[0m\n",
      "drwxrwxrwx 3 root    root     96 Jun  8 12:27 \u001b[34;42mImageMagick\u001b[0m\n",
      "drwxrwxrwx 9 root    root    288 Jun  8 12:27 \u001b[34;42mPDL_Intro\u001b[0m\n",
      "-rw-r--r-- 1 rstudio rstudio  72 Jun  8 12:28 Untitled.ipynb\n"
     ]
    }
   ],
   "source": [
    "ls -l"
   ]
  },
  {
   "cell_type": "code",
   "execution_count": null,
   "id": "7a1f7241",
   "metadata": {},
   "outputs": [],
   "source": []
  }
 ],
 "metadata": {
  "kernelspec": {
   "display_name": "Bash",
   "language": "bash",
   "name": "bash"
  },
  "language_info": {
   "codemirror_mode": "shell",
   "file_extension": ".sh",
   "mimetype": "text/x-sh",
   "name": "bash"
  }
 },
 "nbformat": 4,
 "nbformat_minor": 5
}
