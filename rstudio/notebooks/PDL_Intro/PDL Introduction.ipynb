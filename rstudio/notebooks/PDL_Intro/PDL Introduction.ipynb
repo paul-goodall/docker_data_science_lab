{
 "cells": [
  {
   "cell_type": "code",
   "execution_count": 2,
   "id": "8ded446e",
   "metadata": {},
   "outputs": [],
   "source": []
  },
  {
   "cell_type": "code",
   "execution_count": null,
   "id": "cc275f12",
   "metadata": {},
   "outputs": [],
   "source": []
  },
  {
   "cell_type": "code",
   "execution_count": 10,
   "id": "236f7dcf",
   "metadata": {},
   "outputs": [],
   "source": [
    "use PDL;\n",
    "use PGPLOT;               \n",
    "use PDL::Graphics::Simple;\n",
    "use PDL::Graphics::PGPLOT;\n",
    "use PDL::Graphics::PGPLOT::Window;"
   ]
  },
  {
   "cell_type": "code",
   "execution_count": 11,
   "id": "94a7f303",
   "metadata": {},
   "outputs": [
    {
     "ename": "Error",
     "evalue": "Can't call method \"id\" on an undefined value at /usr/local/lib/x86_64-linux-gnu/perl/5.30.0/PDL/Graphics/PGPLOT.pm line 314.\n",
     "output_type": "error",
     "traceback": [
      "Can't call method \"id\" on an undefined value at /usr/local/lib/x86_64-linux-gnu/perl/5.30.0/PDL/Graphics/PGPLOT.pm line 314.\n"
     ]
    }
   ],
   "source": [
    "use PDL::Graphics::LUT;\n",
    "dev(\"/xs\",3,15);\n",
    "\n",
    "foreach(lut_names()){\n",
    "    print\"$_\\t\";\n",
    "    ctab(lut_data($_));\n",
    "    imag sequence(250,1);\n",
    "    text $_,20,-0.2,{CHARSIZE=>20,LINEWIDTH=>20,COLOUR=>0};\n",
    "    text $_,20,-0.2,{CHARSIZE=>20,LINEWIDTH=>1,COLOUR=>1};\n",
    "}"
   ]
  },
  {
   "cell_type": "code",
   "execution_count": 13,
   "id": "be3e4e49",
   "metadata": {},
   "outputs": [
    {
     "ename": "Error",
     "evalue": "Can't call method \"id\" on an undefined value at /usr/local/lib/x86_64-linux-gnu/perl/5.30.0/PDL/Graphics/PGPLOT.pm line 314.\n",
     "output_type": "error",
     "traceback": [
      "Can't call method \"id\" on an undefined value at /usr/local/lib/x86_64-linux-gnu/perl/5.30.0/PDL/Graphics/PGPLOT.pm line 314.\n"
     ]
    }
   ],
   "source": [
    "# Extra step for Jupyter notebooks - we have to\n",
    "# explicitly set up the x11 viewing device for our plots:\n",
    "ctab( lut_data('heat',0,'log') );\n",
    "$ENV{PGPLOT_XW_WIDTH}=0.5;\n",
    "$ENV{PGPLOT_XW_HEIGHT}=0.5;\n",
    "dev('/XSERVE');"
   ]
  },
  {
   "cell_type": "code",
   "execution_count": 27,
   "id": "37b27c88",
   "metadata": {},
   "outputs": [
    {
     "data": {
      "text/plain": [
       "1"
      ]
     },
     "execution_count": 27,
     "metadata": {},
     "output_type": "execute_result"
    }
   ],
   "source": [
    "imag (sin(rvals(200,200)+1));"
   ]
  },
  {
   "cell_type": "code",
   "execution_count": 28,
   "id": "6dc51d77",
   "metadata": {
    "scrolled": true
   },
   "outputs": [
    {
     "data": {
      "text/plain": [
       "TOO LONG TO PRINT"
      ]
     },
     "execution_count": 28,
     "metadata": {},
     "output_type": "execute_result"
    }
   ],
   "source": [
    "$im = rfits(\"m51_raw.fits\");"
   ]
  },
  {
   "cell_type": "code",
   "execution_count": 13,
   "id": "363d0e33",
   "metadata": {},
   "outputs": [
    {
     "data": {
      "text/plain": [
       "TOO LONG TO PRINT"
      ]
     },
     "execution_count": 13,
     "metadata": {},
     "output_type": "execute_result"
    }
   ],
   "source": [
    "my $nx = $im->dim(0);\n",
    "my $ny = $im->dim(1);\n",
    "my $LLx = 8;\n",
    "my $LLy = $LLx*$ny/$nx;\n",
    "\n",
    "$winoptions->{dev} ='/xs';\n",
    "$winoptions->{WindowXSize}=$LLx;\n",
    "$winoptions->{WindowYSize}=$LLy;\n",
    "$win = PDL::Graphics::PGPLOT::Window->new($winoptions);\n",
    "$win->ctab( lut_data('heat',0,'ramp') );"
   ]
  },
  {
   "cell_type": "code",
   "execution_count": 6,
   "id": "b68716ba",
   "metadata": {},
   "outputs": [
    {
     "data": {
      "text/plain": [
       "1"
      ]
     },
     "execution_count": 6,
     "metadata": {},
     "output_type": "execute_result"
    }
   ],
   "source": [
    "$win->imag($im);"
   ]
  },
  {
   "cell_type": "code",
   "execution_count": 5,
   "id": "b159ca8e",
   "metadata": {},
   "outputs": [
    {
     "data": {
      "text/plain": [
       "1"
      ]
     },
     "execution_count": 5,
     "metadata": {},
     "output_type": "execute_result"
    }
   ],
   "source": [
    "$win->imag($im, 0, 1000, {TITLE=>'Image of m51: more contrast'});"
   ]
  },
  {
   "cell_type": "code",
   "execution_count": 7,
   "id": "9d44bbf6",
   "metadata": {},
   "outputs": [
    {
     "data": {
      "text/plain": [
       "8"
      ]
     },
     "execution_count": 7,
     "metadata": {},
     "output_type": "execute_result"
    }
   ],
   "source": [
    "$win->imag($im, 0, 300, {TITLE=>'Image of m51: even more contrast'});"
   ]
  },
  {
   "cell_type": "code",
   "execution_count": null,
   "id": "bbe4f7bd",
   "metadata": {},
   "outputs": [],
   "source": []
  }
 ],
 "metadata": {
  "kernelspec": {
   "display_name": "IPerl 0.011",
   "language": "perl",
   "name": "iperl"
  },
  "language_info": {
   "file_extension": ".pl",
   "mimetype": "text/x-perl",
   "name": "perl",
   "version": "5.30.0"
  }
 },
 "nbformat": 4,
 "nbformat_minor": 5
}
